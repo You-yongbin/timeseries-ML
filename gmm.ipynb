{
 "cells": [
  {
   "cell_type": "code",
   "execution_count": 96,
   "id": "c9c57400",
   "metadata": {
    "ExecuteTime": {
     "end_time": "2022-05-20T04:53:06.106124Z",
     "start_time": "2022-05-20T04:53:06.017988Z"
    }
   },
   "outputs": [
    {
     "data": {
      "image/png": "[encoded data removed]",
      "text/plain": [
       "<Figure size 720x576 with 1 Axes>"
      ]
     },
     "metadata": {
      "needs_background": "light"
     },
     "output_type": "display_data"
    }
   ],
   "source": [
    "#임포트\n",
    "import pandas as pd\n",
    "import matplotlib.pyplot as plt\n",
    "import seaborn as sns\n",
    "\n",
    "# iris 데이터 로드\n",
    "iris = sns.load_dataset('iris')\n",
    "\n",
    "# 데이터 산점도\n",
    "plt.figure(figsize=(10,8))\n",
    "plt.scatter(iris['petal_length'], iris['petal_width'], color='black', linewidths=0)\n",
    "plt.xlabel(\"petal_length\")\n",
    "plt.ylabel(\"petal_width\")\n",
    "plt.show()"
   ]
  },
  {
   "cell_type": "code",
   "execution_count": 122,
   "id": "d4e1fbc5",
   "metadata": {
    "ExecuteTime": {
     "end_time": "2022-05-20T05:25:17.742381Z",
     "start_time": "2022-05-20T05:25:17.659947Z"
    }
   },
   "outputs": [
    {
     "data": {
      "text/plain": [
       "species     gmm_comp_3_cluster\n",
       "setosa      0                     50\n",
       "versicolor  2                     49\n",
       "            1                      1\n",
       "virginica   1                     47\n",
       "            2                      3\n",
       "Name: gmm_comp_3_cluster, dtype: int64"
      ]
     },
     "execution_count": 122,
     "metadata": {},
     "output_type": "execute_result"
    }
   ],
   "source": [
    "from sklearn.mixture import GaussianMixture\n",
    "\n",
    "# iris petal 데이터만 추출\n",
    "iris_petal = iris[['petal_length','petal_width']]\n",
    "\n",
    "# 클러스터링 개수 2,3 두가지 경우를 비교\n",
    "gmm_comp_2 = GaussianMixture(n_components=2, n_init=10)\n",
    "gmm_comp_3 = GaussianMixture(n_components=3, n_init=10)\n",
    "gmm_comp_2.fit(iris_petal)\n",
    "gmm_comp_3.fit(iris_petal)\n",
    "gmm_comp_2_cluster_labels = gmm_comp_2.predict(iris_petal)\n",
    "gmm_comp_3_cluster_labels = gmm_comp_3.predict(iris_petal)\n",
    "\n",
    "iris['gmm_comp_2_cluster'] = gmm_comp_2_cluster_labels\n",
    "iris['gmm_comp_3_cluster'] = gmm_comp_3_cluster_labels\n",
    "\n",
    "# iris.groupby(['species'])['gmm_comp_2_cluster'].value_counts()\n",
    "iris.groupby(['species'])['gmm_comp_3_cluster'].value_counts()"
   ]
  },
  {
   "cell_type": "code",
   "execution_count": 167,
   "id": "c9dd8eb0",
   "metadata": {
    "ExecuteTime": {
     "end_time": "2022-05-20T06:30:19.617649Z",
     "start_time": "2022-05-20T06:30:19.501576Z"
    }
   },
   "outputs": [
    {
     "data": {
      "text/plain": [
       "species     gmm_comp_6_cluster\n",
       "setosa      4                     29\n",
       "            1                     21\n",
       "versicolor  2                     39\n",
       "            3                     11\n",
       "virginica   0                     25\n",
       "            3                     13\n",
       "            5                     10\n",
       "            2                      2\n",
       "Name: gmm_comp_6_cluster, dtype: int64"
      ]
     },
     "execution_count": 167,
     "metadata": {},
     "output_type": "execute_result"
    }
   ],
   "source": [
    "gmm_comp_6 = GaussianMixture(n_components=6, n_init=10)\n",
    "gmm_comp_6.fit(iris_petal)\n",
    "gmm_comp_6_cluster_labels = gmm_comp_6.predict(iris_petal)\n",
    "\n",
    "iris['gmm_comp_6_cluster'] = gmm_comp_6_cluster_labels\n",
    "iris.groupby(['species'])['gmm_comp_6_cluster'].value_counts()"
   ]
  },
  {
   "cell_type": "code",
   "execution_count": 138,
   "id": "744706af",
   "metadata": {
    "ExecuteTime": {
     "end_time": "2022-05-20T06:23:28.814255Z",
     "start_time": "2022-05-20T06:23:28.803295Z"
    }
   },
   "outputs": [
    {
     "data": {
      "text/html": [
       "<div>\n",
       "<style scoped>\n",
       "    .dataframe tbody tr th:only-of-type {\n",
       "        vertical-align: middle;\n",
       "    }\n",
       "\n",
       "    .dataframe tbody tr th {\n",
       "        vertical-align: top;\n",
       "    }\n",
       "\n",
       "    .dataframe thead th {\n",
       "        text-align: right;\n",
       "    }\n",
       "</style>\n",
       "<table border=\"1\" class=\"dataframe\">\n",
       "  <thead>\n",
       "    <tr style=\"text-align: right;\">\n",
       "      <th></th>\n",
       "      <th>petal_length</th>\n",
       "      <th>petal_width</th>\n",
       "    </tr>\n",
       "  </thead>\n",
       "  <tbody>\n",
       "    <tr>\n",
       "      <th>0</th>\n",
       "      <td>1.4</td>\n",
       "      <td>0.2</td>\n",
       "    </tr>\n",
       "    <tr>\n",
       "      <th>1</th>\n",
       "      <td>1.4</td>\n",
       "      <td>0.2</td>\n",
       "    </tr>\n",
       "    <tr>\n",
       "      <th>2</th>\n",
       "      <td>1.3</td>\n",
       "      <td>0.2</td>\n",
       "    </tr>\n",
       "    <tr>\n",
       "      <th>3</th>\n",
       "      <td>1.5</td>\n",
       "      <td>0.2</td>\n",
       "    </tr>\n",
       "    <tr>\n",
       "      <th>4</th>\n",
       "      <td>1.4</td>\n",
       "      <td>0.2</td>\n",
       "    </tr>\n",
       "    <tr>\n",
       "      <th>...</th>\n",
       "      <td>...</td>\n",
       "      <td>...</td>\n",
       "    </tr>\n",
       "    <tr>\n",
       "      <th>145</th>\n",
       "      <td>5.2</td>\n",
       "      <td>2.3</td>\n",
       "    </tr>\n",
       "    <tr>\n",
       "      <th>146</th>\n",
       "      <td>5.0</td>\n",
       "      <td>1.9</td>\n",
       "    </tr>\n",
       "    <tr>\n",
       "      <th>147</th>\n",
       "      <td>5.2</td>\n",
       "      <td>2.0</td>\n",
       "    </tr>\n",
       "    <tr>\n",
       "      <th>148</th>\n",
       "      <td>5.4</td>\n",
       "      <td>2.3</td>\n",
       "    </tr>\n",
       "    <tr>\n",
       "      <th>149</th>\n",
       "      <td>5.1</td>\n",
       "      <td>1.8</td>\n",
       "    </tr>\n",
       "  </tbody>\n",
       "</table>\n",
       "<p>150 rows × 2 columns</p>\n",
       "</div>"
      ],
      "text/plain": [
       "     petal_length  petal_width\n",
       "0             1.4          0.2\n",
       "1             1.4          0.2\n",
       "2             1.3          0.2\n",
       "3             1.5          0.2\n",
       "4             1.4          0.2\n",
       "..            ...          ...\n",
       "145           5.2          2.3\n",
       "146           5.0          1.9\n",
       "147           5.2          2.0\n",
       "148           5.4          2.3\n",
       "149           5.1          1.8\n",
       "\n",
       "[150 rows x 2 columns]"
      ]
     },
     "execution_count": 138,
     "metadata": {},
     "output_type": "execute_result"
    }
   ],
   "source": [
    "iris_petal"
   ]
  },
  {
   "cell_type": "code",
   "execution_count": 184,
   "id": "495be204",
   "metadata": {
    "ExecuteTime": {
     "end_time": "2022-05-20T06:41:09.565433Z",
     "start_time": "2022-05-20T06:41:09.559440Z"
    }
   },
   "outputs": [],
   "source": [
    "del aic_list, bic_list"
   ]
  },
  {
   "cell_type": "code",
   "execution_count": 204,
   "id": "d97ed979",
   "metadata": {
    "ExecuteTime": {
     "end_time": "2022-05-20T06:45:39.709210Z",
     "start_time": "2022-05-20T06:45:39.552159Z"
    }
   },
   "outputs": [
    {
     "data": {
      "image/png": "[encoded data removed]",
      "text/plain": [
       "<Figure size 720x288 with 1 Axes>"
      ]
     },
     "metadata": {
      "needs_background": "light"
     },
     "output_type": "display_data"
    }
   ],
   "source": [
    "# 클러스터 2번 부터 시작\n",
    "bic_list = [450,450]\n",
    "aic_list = [450,450]\n",
    "\n",
    "for i in range(2,7):\n",
    "    gmm = GaussianMixture(n_components = i).fit(iris_petal)\n",
    "    \n",
    "    if gmm:\n",
    "        bic_list.append(gmm.bic(iris_petal))\n",
    "        aic_list.append(gmm.aic(iris_petal))\n",
    "\n",
    "plt.figure(figsize=(10,4))\n",
    "plt.plot(bic_list, '-d', label='bic')\n",
    "plt.plot(aic_list, '--d', color='red', label='aic')\n",
    "plt.xlabel('n_components')\n",
    "plt.ylabel('information criterion')\n",
    "plt.legend()\n",
    "plt.show()"
   ]
  },
  {
   "cell_type": "code",
   "execution_count": 128,
   "id": "94e14cd2",
   "metadata": {
    "ExecuteTime": {
     "end_time": "2022-05-20T06:17:01.366478Z",
     "start_time": "2022-05-20T06:17:01.351431Z"
    }
   },
   "outputs": [
    {
     "data": {
      "text/plain": [
       "331.4626558367153"
      ]
     },
     "execution_count": 128,
     "metadata": {},
     "output_type": "execute_result"
    }
   ],
   "source": [
    "gmm_comp_2.aic(iris_petal)"
   ]
  },
  {
   "cell_type": "code",
   "execution_count": 127,
   "id": "47741e80",
   "metadata": {
    "ExecuteTime": {
     "end_time": "2022-05-20T06:16:59.192553Z",
     "start_time": "2022-05-20T06:16:59.182176Z"
    }
   },
   "outputs": [
    {
     "data": {
      "text/plain": [
       "364.57964407177417"
      ]
     },
     "execution_count": 127,
     "metadata": {},
     "output_type": "execute_result"
    }
   ],
   "source": [
    "gmm_comp_2.bic(iris_petal)"
   ]
  },
  {
   "cell_type": "code",
   "execution_count": 124,
   "id": "ca7ecfa4",
   "metadata": {
    "ExecuteTime": {
     "end_time": "2022-05-20T05:32:52.671368Z",
     "start_time": "2022-05-20T05:32:52.538983Z"
    }
   },
   "outputs": [
    {
     "data": {
      "image/png": "[encoded data removed]",
      "text/plain": [
       "<Figure size 720x576 with 1 Axes>"
      ]
     },
     "metadata": {
      "needs_background": "light"
     },
     "output_type": "display_data"
    }
   ],
   "source": [
    "plt.figure(figsize=(10,8))\n",
    "\n",
    "for i in range(2):\n",
    "    plt.scatter(iris.loc[iris['gmm_comp_2_cluster'] == i, 'petal_length'],\n",
    "                iris.loc[iris['gmm_comp_2_cluster'] == i, 'petal_width'], \n",
    "                label = 'cluster '+str(i))\n",
    "# 클러스터 3의 경우\n",
    "# for i in range(3):\n",
    "#     plt.scatter(iris.loc[iris['gmm_comp_3_cluster'] == i, 'petal_length'],\n",
    "#                 iris.loc[iris['gmm_comp_3_cluster'] == i, 'petal_width'], \n",
    "#                 label = 'cluster '+str(i))\n",
    "plt.xlabel(\"petal_length\")\n",
    "plt.ylabel(\"petal_width\")\n",
    "plt.legend()\n",
    "plt.show()"
   ]
  },
  {
   "cell_type": "code",
   "execution_count": 119,
   "id": "19fe38d8",
   "metadata": {
    "ExecuteTime": {
     "end_time": "2022-05-20T05:21:27.454120Z",
     "start_time": "2022-05-20T05:21:27.317811Z"
    }
   },
   "outputs": [
    {
     "data": {
      "image/png": "[encoded data removed]",
      "text/plain": [
       "<Figure size 720x576 with 1 Axes>"
      ]
     },
     "metadata": {
      "needs_background": "light"
     },
     "output_type": "display_data"
    }
   ],
   "source": [
    "plt.figure(figsize=(10,8))\n",
    "\n",
    "for i in range(3):\n",
    "    plt.scatter(iris.loc[iris['gmm_comp_3_cluster'] == i, 'petal_length'], iris.loc[iris['gmm_comp_3_cluster'] == i, 'petal_width'], \n",
    "                label = 'cluster '+str(i))\n",
    "plt.xlabel(\"petal_length\")\n",
    "plt.ylabel(\"petal_width\")\n",
    "plt.legend()\n",
    "plt.show()"
   ]
  },
  {
   "cell_type": "code",
   "execution_count": 207,
   "id": "73acd307",
   "metadata": {
    "ExecuteTime": {
     "end_time": "2022-05-20T06:58:18.635438Z",
     "start_time": "2022-05-20T06:58:18.215712Z"
    }
   },
   "outputs": [
    {
     "data": {
      "text/plain": [
       "array([0.34, 0.31, 0.35, 0.  , 0.  , 0.  , 0.  , 0.  , 0.  , 0.  ])"
      ]
     },
     "execution_count": 207,
     "metadata": {},
     "output_type": "execute_result"
    }
   ],
   "source": [
    "from sklearn.mixture import BayesianGaussianMixture\n",
    "\n",
    "bgm = BayesianGaussianMixture(n_components=10, n_init=10)\n",
    "bgm.fit(iris_petal)\n",
    "np.round(bgm.weights_, 2)"
   ]
  }
 ],
 "metadata": {
  "kernelspec": {
   "display_name": "Python 3 (ipykernel)",
   "language": "python",
   "name": "python3"
  },
  "language_info": {
   "codemirror_mode": {
    "name": "ipython",
    "version": 3
   },
   "file_extension": ".py",
   "mimetype": "text/x-python",
   "name": "python",
   "nbconvert_exporter": "python",
   "pygments_lexer": "ipython3",
   "version": "3.9.7"
  },
  "toc": {
   "base_numbering": 1,
   "nav_menu": {},
   "number_sections": true,
   "sideBar": true,
   "skip_h1_title": false,
   "title_cell": "Table of Contents",
   "title_sidebar": "Contents",
   "toc_cell": false,
   "toc_position": {},
   "toc_section_display": true,
   "toc_window_display": false
  }
 },
 "nbformat": 4,
 "nbformat_minor": 5
}
