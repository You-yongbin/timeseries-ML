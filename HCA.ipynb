{
 "cells": [
  {
   "cell_type": "code",
   "execution_count": null,
   "id": "39b6b8a6",
   "metadata": {
    "ExecuteTime": {
     "end_time": "2022-05-20T02:55:00.508727Z",
     "start_time": "2022-05-20T02:55:00.508727Z"
    }
   },
   "outputs": [],
   "source": [
    "#임포트\n",
    "import pandas as pd\n",
    "import matplotlib.pyplot as plt\n",
    "import seaborn as sns\n",
    "from scipy.cluster.hierarchy import linkage, dendrogram\n",
    "\n",
    "# iris 데이터 로드\n",
    "iris = sns.load_dataset('iris')\n",
    "\n",
    "# species 문자 -> 벡터처리 \n",
    "for i in range(len(iris)):\n",
    "    if iris.loc[i,\"species\"] == 'setosa':\n",
    "        iris.loc[i,\"species\"] = 0\n",
    "    elif iris.loc[i,\"species\"] == 'versicolor':\n",
    "        iris.loc[i,\"species\"] = 1\n",
    "    elif iris.loc[i,\"species\"] == 'virginica':\n",
    "        iris.loc[i,\"species\"] = 2\n",
    "\n",
    "# complete linkage : 클러스터상 가장 먼거리 측정 방식\n",
    "mergings = linkage(iris, method=\"complete\")\n",
    "\n",
    "#plot\n",
    "plt.figure(figsize=(40,20))\n",
    "dendrogram(mergings,\n",
    "           leaf_rotation=90,\n",
    "           leaf_font_size=20,\n",
    ")\n",
    "plt.show()"
   ]
  },
  {
   "cell_type": "code",
   "execution_count": null,
   "id": "ddaa48cb",
   "metadata": {
    "ExecuteTime": {
     "end_time": "2022-05-20T02:55:00.508727Z",
     "start_time": "2022-05-20T02:55:00.508727Z"
    }
   },
   "outputs": [],
   "source": [
    "from sklearn.cluster import DBSCAN\n",
    "\n",
    "model = DBSCAN(eps=0.1, min_samples=5)\n",
    "iris['cluster'] = model.fit_predict(iris[['petal_length']], iris[['petal_width']])\n",
    "n = len(iris['cluster'].unique())\n",
    "\n",
    "#plot 설정\n",
    "plt.figure(figsize=(8,8))\n",
    "for i in range(n):\n",
    "    plt.scatter(iris.loc[iris['cluster'] == i, 'petal_length'], iris.loc[iris['cluster'] == i, 'petal_width'], \n",
    "                label = 'cluster '+str(i))\n",
    "plt.title(f\"eplison=0.1\", fontsize=20)\n",
    "plt.xlabel('petal_length', fontsize=18)\n",
    "plt.ylabel('petal_width', fontsize=18)\n",
    "plt.legend()\n",
    "plt.show()"
   ]
  },
  {
   "cell_type": "code",
   "execution_count": 17,
   "id": "20d7944e",
   "metadata": {
    "ExecuteTime": {
     "end_time": "2022-05-20T02:59:41.653851Z",
     "start_time": "2022-05-20T02:59:41.522368Z"
    }
   },
   "outputs": [
    {
     "data": {
      "text/plain": [
       "<matplotlib.collections.PathCollection at 0x1eb775c2490>"
      ]
     },
     "execution_count": 17,
     "metadata": {},
     "output_type": "execute_result"
    },
    {
     "data": {
      "image/png": "[encoded data removed]",
      "text/plain": [
       "<Figure size 720x576 with 1 Axes>"
      ]
     },
     "metadata": {
      "needs_background": "light"
     },
     "output_type": "display_data"
    }
   ],
   "source": [
    "#임포트\n",
    "import pandas as pd\n",
    "import matplotlib.pyplot as plt\n",
    "import seaborn as sns\n",
    "\n",
    "# iris 데이터 로드\n",
    "iris = sns.load_dataset('iris')\n",
    "\n",
    "plt.figure(figsize=(10,8))\n",
    "plt.scatter(iris['petal_length'], iris['petal_width'], color='black', linewidths=0)\n",
    "plt.xlabel(\"petal_\")"
   ]
  },
  {
   "cell_type": "code",
   "execution_count": null,
   "id": "b19497ca",
   "metadata": {},
   "outputs": [],
   "source": []
  }
 ],
 "metadata": {
  "kernelspec": {
   "display_name": "Python 3 (ipykernel)",
   "language": "python",
   "name": "python3"
  },
  "language_info": {
   "codemirror_mode": {
    "name": "ipython",
    "version": 3
   },
   "file_extension": ".py",
   "mimetype": "text/x-python",
   "name": "python",
   "nbconvert_exporter": "python",
   "pygments_lexer": "ipython3",
   "version": "3.9.7"
  },
  "toc": {
   "base_numbering": 1,
   "nav_menu": {},
   "number_sections": true,
   "sideBar": true,
   "skip_h1_title": false,
   "title_cell": "Table of Contents",
   "title_sidebar": "Contents",
   "toc_cell": false,
   "toc_position": {},
   "toc_section_display": true,
   "toc_window_display": false
  }
 },
 "nbformat": 4,
 "nbformat_minor": 5
}
